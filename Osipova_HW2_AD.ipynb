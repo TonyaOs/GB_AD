{
 "cells": [
  {
   "cell_type": "markdown",
   "metadata": {},
   "source": [
    "#### Домашнее задание 2  Масштабирование признаков. L1- и L2-регуляризация. Стохастический градиентный спуск"
   ]
  },
  {
   "cell_type": "code",
   "execution_count": 1,
   "metadata": {
    "colab": {},
    "colab_type": "code",
    "id": "_u5bV-OlT34p"
   },
   "outputs": [],
   "source": [
    "import numpy as np\n",
    "import matplotlib.pyplot as plt\n",
    "from tqdm import tqdm\n",
    "import warnings\n",
    "warnings.filterwarnings('ignore')"
   ]
  },
  {
   "cell_type": "markdown",
   "metadata": {},
   "source": [
    "__Задача:__ предсказание баллов ЕГЭ ученика"
   ]
  },
  {
   "cell_type": "code",
   "execution_count": 2,
   "metadata": {
    "colab": {},
    "colab_type": "code",
    "id": "_n6il-AZaLuA"
   },
   "outputs": [],
   "source": [
    "X = np.array([[   1,    1,  500,    1],\n",
    "              [   1,    1,  700,    1],\n",
    "              [   1,    2,  750,    2],\n",
    "              [   1,    5,  600,    1],\n",
    "              [   1,    3, 1450,    2],\n",
    "              [   1,    0,  800,    1],\n",
    "              [   1,    5, 1500,    3],\n",
    "              [   1,   10, 2000,    3],\n",
    "              [   1,    1,  450,    1],\n",
    "              [   1,    2, 1000,    2]])"
   ]
  },
  {
   "cell_type": "code",
   "execution_count": 3,
   "metadata": {
    "colab": {},
    "colab_type": "code",
    "id": "x8yoci01ni-t"
   },
   "outputs": [],
   "source": [
    "y = [45, 55, 50, 55, 60, 35, 75, 80, 50, 60]"
   ]
  },
  {
   "cell_type": "code",
   "execution_count": 4,
   "metadata": {},
   "outputs": [],
   "source": [
    "def standard_scale(X):\n",
    "    mean = X.mean(axis=0)\n",
    "    std = X.std(axis=0)\n",
    "    return (X - mean) / std"
   ]
  },
  {
   "cell_type": "code",
   "execution_count": 5,
   "metadata": {},
   "outputs": [
    {
     "data": {
      "text/plain": [
       "array([[ 1.        , -0.70710678, -0.97958969, -0.89625816],\n",
       "       [ 1.        , -0.70710678, -0.56713087, -0.89625816],\n",
       "       [ 1.        , -0.35355339, -0.46401617,  0.38411064],\n",
       "       [ 1.        ,  0.70710678, -0.77336028, -0.89625816],\n",
       "       [ 1.        ,  0.        ,  0.97958969,  0.38411064],\n",
       "       [ 1.        , -1.06066017, -0.36090146, -0.89625816],\n",
       "       [ 1.        ,  0.70710678,  1.08270439,  1.66447944],\n",
       "       [ 1.        ,  2.47487373,  2.11385144,  1.66447944],\n",
       "       [ 1.        , -0.70710678, -1.08270439, -0.89625816],\n",
       "       [ 1.        , -0.35355339,  0.05155735,  0.38411064]])"
      ]
     },
     "execution_count": 5,
     "metadata": {},
     "output_type": "execute_result"
    }
   ],
   "source": [
    "X_st = X.copy().astype(np.float64)\n",
    "X_st[:, 1:4] = standard_scale(X_st[:, 1:4])\n",
    "X_st"
   ]
  },
  {
   "cell_type": "code",
   "execution_count": 6,
   "metadata": {},
   "outputs": [
    {
     "name": "stdout",
     "output_type": "stream",
     "text": [
      "-4.163336342344337e-17 0.9999999999999999\n"
     ]
    },
    {
     "data": {
      "image/png": "[encoded data removed]",
      "text/plain": [
       "<Figure size 432x288 with 1 Axes>"
      ]
     },
     "metadata": {
      "needs_background": "light"
     },
     "output_type": "display_data"
    }
   ],
   "source": [
    "ind = 2\n",
    "print(np.mean(X_st[:, ind]), np.std(X_st[:, ind]))\n",
    "plt.hist(X_st[:, ind])\n",
    "plt.show()"
   ]
  },
  {
   "cell_type": "code",
   "execution_count": 7,
   "metadata": {},
   "outputs": [],
   "source": [
    "def calc_mse(y, y_pred):\n",
    "    err = np.mean((y - y_pred) ** 2)\n",
    "    return err"
   ]
  },
  {
   "cell_type": "markdown",
   "metadata": {},
   "source": [
    "**1. Напишите функцию наподобие gradient_descent_reg_l2, но для применения L1-регуляризации.**"
   ]
  },
  {
   "cell_type": "code",
   "execution_count": 18,
   "metadata": {},
   "outputs": [
    {
     "ename": "SyntaxError",
     "evalue": "cannot assign to operator (Temp/ipykernel_508/1529666467.py, line 2)",
     "output_type": "error",
     "traceback": [
      "\u001b[1;36m  File \u001b[1;32m\"C:\\Users\\EF10~1\\AppData\\Local\\Temp/ipykernel_508/1529666467.py\"\u001b[1;36m, line \u001b[1;32m2\u001b[0m\n\u001b[1;33m    +1 / 1 = +\u001b[0m\n\u001b[1;37m    ^\u001b[0m\n\u001b[1;31mSyntaxError\u001b[0m\u001b[1;31m:\u001b[0m cannot assign to operator\n"
     ]
    }
   ],
   "source": [
    "W / np.abs(W)\n",
    "+1 / 1 = +\n",
    "-1 / 1 = -\n",
    "0 / 0 = nan"
   ]
  },
  {
   "cell_type": "code",
   "execution_count": 19,
   "metadata": {},
   "outputs": [
    {
     "data": {
      "text/plain": [
       "0"
      ]
     },
     "execution_count": 19,
     "metadata": {},
     "output_type": "execute_result"
    }
   ],
   "source": [
    "np.sign(0)"
   ]
  },
  {
   "cell_type": "code",
   "execution_count": 20,
   "metadata": {},
   "outputs": [],
   "source": [
    "def gradient_descent_reg_l1(X, y, iterations, eta=1e-4, reg=1e-8):\n",
    "    W = np.random.randn(X.shape[1])\n",
    "    n = X.shape[0]\n",
    "    \n",
    "    for i in range(0, iterations):\n",
    "        y_pred = np.dot(X, W)\n",
    "        err = calc_mse(y, y_pred)\n",
    "        \n",
    "        dQ = 2/n * X.T @ (y_pred - y) # градиент функции ошибки\n",
    "        dReg = reg * np.sign(W) # градиент регуляризации\n",
    "        \n",
    "        W -= eta * (dQ + dReg)\n",
    "        \n",
    "        if i % (iterations / 10) == 0:\n",
    "            print(f'Iter: {i}, weights: {W}, error {err}')\n",
    "    \n",
    "    print(f'Final MSE: {calc_mse(y, np.dot(X, W))}')\n",
    "    return W"
   ]
  },
  {
   "cell_type": "code",
   "execution_count": 21,
   "metadata": {},
   "outputs": [
    {
     "name": "stdout",
     "output_type": "stream",
     "text": [
      "Iter: 0, weights: [ 0.2763363   0.58781714 -1.33413448  1.31055838], error 3452.764279660518\n",
      "Iter: 500, weights: [56.49269369  6.03250441  0.61467036  5.83041814], error 25.0666665730518\n",
      "Iter: 1000, weights: [ 5.64949999e+01  6.22560777e+00 -1.10586149e-02  6.28890446e+00], error 24.925668060723535\n",
      "Iter: 1500, weights: [56.495       6.26159587 -0.19354453  6.44267788], error 24.909251220714037\n",
      "Iter: 2000, weights: [56.495       6.27516798 -0.25965254  6.49735871], error 24.906261883573656\n",
      "Iter: 2500, weights: [56.495       6.28009326 -0.28346016  6.51701529], error 24.905564138800763\n",
      "Iter: 3000, weights: [56.495       6.28186812 -0.29203015  6.52408921], error 24.905362016904\n",
      "Iter: 3500, weights: [56.495       6.28250707 -0.29511489  6.52663534], error 24.905295617571877\n",
      "Iter: 4000, weights: [56.495       6.28273706 -0.29622521  6.5275518 ], error 24.905272540796794\n",
      "Iter: 4500, weights: [56.495       6.28281985 -0.29662486  6.52788167], error 24.90526434114892\n",
      "Final MSE: 24.905261403571416\n"
     ]
    },
    {
     "data": {
      "text/plain": [
       "array([56.495     ,  6.28284961, -0.29676855,  6.52800027])"
      ]
     },
     "execution_count": 21,
     "metadata": {},
     "output_type": "execute_result"
    }
   ],
   "source": [
    "gradient_descent_reg_l1(X_st, y, iterations=5000, eta=1e-2, reg=1e-2)"
   ]
  },
  {
   "cell_type": "markdown",
   "metadata": {},
   "source": [
    "**2. *Можно ли к одному и тому же признаку применить сразу и нормализацию, и стандартизацию?**"
   ]
  },
  {
   "cell_type": "code",
   "execution_count": 22,
   "metadata": {},
   "outputs": [],
   "source": [
    "def standard_scale(X):\n",
    "    mean = X.mean(axis=0)\n",
    "    std = X.std(axis=0)\n",
    "    return (X - mean) / std"
   ]
  },
  {
   "cell_type": "code",
   "execution_count": 23,
   "metadata": {},
   "outputs": [],
   "source": [
    "def min_max_scale(X):\n",
    "    return (X - X.min(axis=0)) / (X.max(axis=0) - X.min(axis=0))"
   ]
  },
  {
   "cell_type": "code",
   "execution_count": 24,
   "metadata": {},
   "outputs": [
    {
     "data": {
      "text/plain": [
       "(array([0., 0., 0.]), array([1., 1., 1.]))"
      ]
     },
     "execution_count": 24,
     "metadata": {},
     "output_type": "execute_result"
    }
   ],
   "source": [
    "X_norm = X.copy().astype('float64')\n",
    "X_norm = min_max_scale(X_norm[:, 1:])\n",
    "X_norm.min(axis=0), X_norm.max(axis=0)"
   ]
  },
  {
   "cell_type": "code",
   "execution_count": 25,
   "metadata": {},
   "outputs": [
    {
     "data": {
      "text/plain": [
       "(array([0.3       , 0.33870968, 0.35      ]),\n",
       " array([0.28284271, 0.31283671, 0.39051248]))"
      ]
     },
     "execution_count": 25,
     "metadata": {},
     "output_type": "execute_result"
    }
   ],
   "source": [
    "X_norm.mean(axis=0), X_norm.std(axis=0)"
   ]
  },
  {
   "cell_type": "code",
   "execution_count": 26,
   "metadata": {},
   "outputs": [
    {
     "data": {
      "text/plain": [
       "(array([-1.06066017, -1.08270439, -0.89625816]),\n",
       " array([2.47487373, 2.11385144, 1.66447944]))"
      ]
     },
     "execution_count": 26,
     "metadata": {},
     "output_type": "execute_result"
    }
   ],
   "source": [
    "X_norm_st = standard_scale(X_norm)\n",
    "X_norm_st.min(axis=0), X_norm_st.max(axis=0)"
   ]
  },
  {
   "cell_type": "code",
   "execution_count": 27,
   "metadata": {},
   "outputs": [
    {
     "data": {
      "text/plain": [
       "(array([-1.49880108e-16, -6.86950496e-17,  8.32667268e-17]),\n",
       " array([1., 1., 1.]))"
      ]
     },
     "execution_count": 27,
     "metadata": {},
     "output_type": "execute_result"
    }
   ],
   "source": [
    "X_norm_st.mean(axis=0), X_norm_st.std(axis=0)"
   ]
  },
  {
   "cell_type": "markdown",
   "metadata": {
    "id": "osNM_LLkiqu6"
   },
   "source": [
    "**3. *Сгенерируйте датасет при помощи <code>sklearn.datasets.make_regression</code> и обучите линейную модель при помощи градиентного и стохастического градиентного спуска. Нанесите среднеквадратичную ошибку для обоих методов на один график, сделайте выводы о разнице скорости сходимости каждого из методов.**"
   ]
  },
  {
   "cell_type": "code",
   "execution_count": 28,
   "metadata": {},
   "outputs": [
    {
     "data": {
      "text/plain": [
       "array([[-0.71760732, -1.09367119, -0.73597009, ..., -0.09194752,\n",
       "         0.77271648, -0.5294093 ],\n",
       "       [-0.21856062, -0.43937009,  1.17601766, ..., -0.44205731,\n",
       "         0.65967443, -0.5364636 ],\n",
       "       [-0.09232329, -0.04777714,  0.58128624, ..., -0.64041891,\n",
       "         1.29076796, -0.34530826],\n",
       "       ...,\n",
       "       [-0.1724219 ,  1.20477844,  0.77081956, ...,  1.78646758,\n",
       "        -0.59041036, -0.6747931 ],\n",
       "       [ 0.93830193, -0.05266006,  1.45767292, ..., -1.01765261,\n",
       "         0.02393901,  1.37086726],\n",
       "       [-0.99582701,  1.30720547, -0.04855569, ...,  1.85683052,\n",
       "        -0.26133944,  0.50888458]])"
      ]
     },
     "metadata": {},
     "output_type": "display_data"
    },
    {
     "data": {
      "text/plain": [
       "array([-133.10543687,   44.01778172,   48.98233093, ..., -271.14963388,\n",
       "        161.66813826,  380.05918834])"
      ]
     },
     "metadata": {},
     "output_type": "display_data"
    },
    {
     "data": {
      "text/plain": [
       "array([8.03590530e+00, 9.63394753e+00, 0.00000000e+00, 0.00000000e+00,\n",
       "       0.00000000e+00, 7.86058430e+01, 0.00000000e+00, 0.00000000e+00,\n",
       "       9.61298231e+01, 5.95379955e+01, 0.00000000e+00, 3.30583257e+01,\n",
       "       3.71965212e+01, 6.59198012e-02, 0.00000000e+00, 0.00000000e+00,\n",
       "       0.00000000e+00, 2.78539772e+01, 0.00000000e+00, 7.36381949e+01])"
      ]
     },
     "metadata": {},
     "output_type": "display_data"
    }
   ],
   "source": [
    "from sklearn import datasets\n",
    "\n",
    "X, Y, coef = datasets.make_regression(n_samples=100000, n_features=20, n_informative=10, n_targets=1, \n",
    "                                      noise=5, coef=True, random_state=2)\n",
    "display(X, Y, coef)"
   ]
  },
  {
   "cell_type": "code",
   "execution_count": 29,
   "metadata": {},
   "outputs": [],
   "source": [
    "X = standard_scale(X)"
   ]
  },
  {
   "cell_type": "code",
   "execution_count": 30,
   "metadata": {},
   "outputs": [
    {
     "data": {
      "text/plain": [
       "array([ 1.10855471e-03, -2.89544069e-01, -1.11606630e+00, -1.28827567e-02,\n",
       "       -3.78361464e-01, -4.81135363e-01, -1.51733118e+00, -4.90871981e-01,\n",
       "       -2.40680579e-01, -6.47947460e-01,  6.35891080e-01,  1.74011731e+00,\n",
       "        2.96682218e-01,  7.07503662e-01,  1.82281576e+00,  4.30769029e-01,\n",
       "        1.54272963e+00, -9.00721171e-01, -1.37125010e-01,  1.29757901e+00])"
      ]
     },
     "execution_count": 30,
     "metadata": {},
     "output_type": "execute_result"
    }
   ],
   "source": [
    "np.random.seed(9)\n",
    "init_W = np.random.randn(X.shape[1])\n",
    "init_W"
   ]
  },
  {
   "cell_type": "code",
   "execution_count": 31,
   "metadata": {},
   "outputs": [],
   "source": [
    "# стохастический градиентный спуск\n",
    "def stohastic_gradient_descent(W, X, Y, iterations, eta=1e-4, size=1):\n",
    "    n = X.shape[0]\n",
    "    \n",
    "    errors = []\n",
    "    w_list = [W.copy()]\n",
    "    for i in range(0, iterations):\n",
    "        train_ind = np.random.randint(X.shape[0], size=size)\n",
    "\n",
    "        y_pred = np.dot(X[train_ind], W)\n",
    "        W = W - eta * 2 / Y[train_ind].shape[0] * np.dot(X[train_ind].T, y_pred - Y[train_ind])\n",
    "\n",
    "        error = calc_mse(Y, np.dot(X, W))\n",
    "        errors.append(error)\n",
    "        w_list.append(W)\n",
    "        \n",
    "        if i % (iterations / 10) == 0:\n",
    "            print(f'Iter: {i}, error {error}')\n",
    "    \n",
    "    print(f'Final MSE: {calc_mse(Y, np.dot(X, W))}')\n",
    "    return W, errors, w_list"
   ]
  },
  {
   "cell_type": "code",
   "execution_count": 32,
   "metadata": {},
   "outputs": [],
   "source": [
    "# классический  GD\n",
    "def gradient_descent(W, X, y, iterations, eta=1e-4):\n",
    "    n = X.shape[0]\n",
    "    \n",
    "    errors = []\n",
    "    w_list = [W.copy()]\n",
    "    for i in range(0, iterations):\n",
    "        y_pred = np.dot(X, W)\n",
    "        err = calc_mse(y, y_pred)\n",
    "        errors.append(err)\n",
    "        \n",
    "        dQ = 2/n * X.T @ (y_pred - y) # градиент функции ошибки\n",
    "        W -= (eta * dQ)\n",
    "        w_list.append(W.copy())\n",
    "        \n",
    "        if i % (iterations / 10) == 0:\n",
    "            print(f'Iter: {i}, error {err}')\n",
    "        \n",
    "    print(f'Final MSE: {calc_mse(y, np.dot(X, W))}')\n",
    "    return W, errors, w_list"
   ]
  },
  {
   "cell_type": "code",
   "execution_count": 33,
   "metadata": {},
   "outputs": [
    {
     "name": "stdout",
     "output_type": "stream",
     "text": [
      "Iter: 0, error 27979.272752767254\n",
      "Iter: 500, error 3738.232217575069\n",
      "Iter: 1000, error 518.6388255248817\n",
      "Iter: 1500, error 90.72566724830708\n",
      "Iter: 2000, error 33.811992742915194\n",
      "Iter: 2500, error 26.236945851143123\n",
      "Iter: 3000, error 25.228011523637203\n",
      "Iter: 3500, error 25.093533811524274\n",
      "Iter: 4000, error 25.075596872220995\n",
      "Iter: 4500, error 25.07320268805145\n",
      "Final MSE: 25.072882888141045\n",
      "Wall time: 56.3 s\n"
     ]
    }
   ],
   "source": [
    "%%time\n",
    "weights_GD, errors_GD, w_list_GD = gradient_descent(init_W, X, Y, iterations=5000, eta=1e-3)"
   ]
  },
  {
   "cell_type": "code",
   "execution_count": 34,
   "metadata": {},
   "outputs": [
    {
     "name": "stdout",
     "output_type": "stream",
     "text": [
      "Iter: 0, error 25.075236521110753\n",
      "Iter: 500, error 25.75966944298366\n",
      "Iter: 1000, error 25.7217958880477\n",
      "Iter: 1500, error 25.405964155926654\n",
      "Iter: 2000, error 25.781264588660264\n",
      "Iter: 2500, error 25.849508285930284\n",
      "Iter: 3000, error 25.465594348594173\n",
      "Iter: 3500, error 25.642243353496802\n",
      "Iter: 4000, error 25.588938594060807\n",
      "Iter: 4500, error 25.50982716026745\n",
      "Final MSE: 25.42193510057289\n",
      "Wall time: 15.2 s\n"
     ]
    }
   ],
   "source": [
    "%%time\n",
    "weights_SGD, errors_SGD, w_list_SGD = stohastic_gradient_descent(init_W, X, Y, iterations=5000, eta=1e-3, size=1)"
   ]
  },
  {
   "cell_type": "code",
   "execution_count": 35,
   "metadata": {},
   "outputs": [
    {
     "data": {
      "image/png": "[encoded data removed]",
      "text/plain": [
       "<Figure size 432x288 with 1 Axes>"
      ]
     },
     "metadata": {
      "needs_background": "light"
     },
     "output_type": "display_data"
    }
   ],
   "source": [
    "# Визуализируем изменение функционала ошибки\n",
    "plt.plot(range(len(errors_GD)), errors_GD, color='b', label='GD')\n",
    "plt.plot(range(len(errors_SGD)), errors_SGD, color='g', label='SGD')\n",
    "\n",
    "plt.title('MSE')\n",
    "plt.xlabel('Iteration number')\n",
    "plt.ylabel('MSE')\n",
    "plt.xlim(0, 1000)\n",
    "plt.legend();"
   ]
  },
  {
   "cell_type": "code",
   "execution_count": 36,
   "metadata": {},
   "outputs": [],
   "source": [
    "w_list_GD = np.array(w_list_GD)\n",
    "w_list_SGD = np.array(w_list_SGD)"
   ]
  },
  {
   "cell_type": "code",
   "execution_count": 37,
   "metadata": {},
   "outputs": [
    {
     "data": {
      "image/png": "[encoded data removed]",
      "text/plain": [
       "<Figure size 936x432 with 1 Axes>"
      ]
     },
     "metadata": {
      "needs_background": "light"
     },
     "output_type": "display_data"
    }
   ],
   "source": [
    "# Визуализируем изменение весов (красной точкой обозначены истинные веса, сгенерированные вначале)\n",
    "plt.figure(figsize=(13, 6))\n",
    "plt.title('Compare SGD and GD')\n",
    "plt.xlabel(r'$w_1$')\n",
    "plt.ylabel(r'$w_2$')\n",
    "\n",
    "plt.scatter(w_list_GD[:, 0], w_list_GD[:, 1], color='b')\n",
    "plt.plot(w_list_GD[:, 0], w_list_GD[:, 1], color='b', label='GD')\n",
    "\n",
    "plt.scatter(w_list_SGD[:, 0], w_list_SGD[:, 1], color='g')\n",
    "plt.plot(w_list_SGD[:, 0], w_list_SGD[:, 1], color='g', label='SGD')\n",
    "plt.scatter(coef[0], coef[1], c='r')\n",
    "\n",
    "plt.legend()\n",
    "plt.show()"
   ]
  },
  {
   "cell_type": "code",
   "execution_count": null,
   "metadata": {},
   "outputs": [],
   "source": []
  }
 ],
 "metadata": {
  "kernelspec": {
   "display_name": "Python 3 (ipykernel)",
   "language": "python",
   "name": "python3"
  },
  "language_info": {
   "codemirror_mode": {
    "name": "ipython",
    "version": 3
   },
   "file_extension": ".py",
   "mimetype": "text/x-python",
   "name": "python",
   "nbconvert_exporter": "python",
   "pygments_lexer": "ipython3",
   "version": "3.9.7"
  }
 },
 "nbformat": 4,
 "nbformat_minor": 2
}
